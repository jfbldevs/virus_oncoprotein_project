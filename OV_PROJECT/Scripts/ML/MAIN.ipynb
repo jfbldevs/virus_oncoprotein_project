{
 "cells": [
  {
   "cell_type": "code",
   "execution_count": null,
   "metadata": {},
   "outputs": [],
   "source": [
    "import pandas as pd\n",
    "from sklearn.datasets import make_classification\n",
    "from sklearn.model_selection import KFold\n",
    "from sklearn.model_selection import cross_val_score\n",
    "from sklearn.ensemble import RandomForestClassifier\n",
    "from sklearn.model_selection import train_test_split\n",

    "\n",
    "datos = pd.read_csv('Seqs_and_Computed_Descriptors/path...')\n",
    "\n",
    "X=datos.drop(['PRED'], axis=1)\n",
    "y = datos['PRED']\n",
    "\n",
    "from sklearn.preprocessing import StandardScaler\n",
    "scaler = StandardScaler()\n",
    "scaler.fit(X)\n",
    "X = scaler.transform(X)\n",
    "\n",
    "X_train, X_test, y_train, y_test = train_test_split(X, y, train_size=0.8, test_size=0.2, random_state=42)\n"
   ]
  },
  {
   "cell_type": "markdown",
   "metadata": {},
   "source": [
    "# Classification assessment using 80% and 20% of data for training and testing, respectively."
   ]
  },
  {
   "cell_type": "code",
   "execution_count": null,
   "metadata": {},
   "outputs": [],
   "source": [
    "from sklearn.model_selection import cross_validate\n",
    "from sklearn.metrics import confusion_matrix\n",
    "\n",
    "model = RandomForestClassifier(n_estimators=100, criterion='gini', max_depth=None, min_samples_split=2,\n",
    "                                min_samples_leaf=1, min_weight_fraction_leaf=0.0, max_features='auto', max_leaf_nodes=None, min_impurity_decrease=0.0,\n",
    "                                bootstrap=True, oob_score=False, n_jobs=None, random_state=0, verbose=0, warm_start=False, class_weight=None,\n",
    "                                ccp_alpha=0.0, max_samples=None).fit(X_train, y_train)\n",
    "\n",
    "\n",
    "def confusion_matrix_scorer(model, X_train, y_train):\n",
    "        y_pred = model.predict(X_train)\n",
    "        cm = confusion_matrix(y_train, y_pred)\n",
    "        return {'tn': cm[0, 0], 'fp': cm[0, 1],\n",
    "                'fn': cm[1, 0], 'tp': cm[1, 1]}\n",
    "        \n",
    "cv_results = cross_validate(model, X_train, y_train, cv=10,\n",
    "                            scoring=confusion_matrix_scorer)\n",
    "# Getting the test set true positive scores\n",
    "TP = cv_results['test_tp'].mean()\n",
    "\n",
    "# Getting the test set false negative scores\n",
    "FN = cv_results['test_fn'].mean()\n",
    "\n",
    "# Getting the test set false positive scores\n",
    "FP = cv_results['test_fp'].mean()\n",
    "\n",
    "# Getting the test set true negative scores\n",
    "TN = cv_results['test_tn'].mean()"
   ]
  },
  {
   "cell_type": "markdown",
   "metadata": {},
   "source": [
    "# Model generation from the training with 100% of data"
   ]
  },
  {
   "cell_type": "code",
   "execution_count": null,
   "metadata": {},
   "outputs": [],
   "source": [
    "from sklearn.model_selection import cross_validate\n",
    "from sklearn.metrics import confusion_matrix\n",
    "\n",
    "model = RandomForestClassifier(n_estimators=100, criterion='gini', max_depth=None, min_samples_split=2,\n",
    "                                min_samples_leaf=1, min_weight_fraction_leaf=0.0, max_features='auto', max_leaf_nodes=None, min_impurity_decrease=0.0,\n",
    "                                bootstrap=True, oob_score=False, n_jobs=None, random_state=42, verbose=0, warm_start=False, class_weight=None,\n",
    "                                ccp_alpha=0.0, max_samples=None).fit(X, y) #Fitted model\n",
    "\n",
   
    "\n",
    "                         \n",
    "# Save the model using the 100% of data\n",
    "import joblib\n",
    "joblib.dump(model, 'Model/model.pkl')\n",
    "\n",
    "#Cross-validation\n",
    "def confusion_matrix_scorer(model, X, y):\n",
    "        y_pred = model.predict(X)\n",
    "        cm = confusion_matrix(y, y_pred)\n",
    "        return {'tn': cm[0, 0], 'fp': cm[0, 1],\n",
    "                'fn': cm[1, 0], 'tp': cm[1, 1]}\n",
    "        \n",
    "cv_results = cross_validate(model, X, y, cv=10,\n",
    "                            scoring=confusion_matrix_scorer)\n",
    "# Getting the test set true positive scores\n",
    "TP = cv_results['test_tp'].mean()\n",
    "\n",
    "# Getting the test set false negative scores\n",
    "FN = cv_results['test_fn'].mean()\n",
    "\n",
    "# Getting the test set false positive scores\n",
    "FP = cv_results['test_fp'].mean()\n",
    "\n",
    "# Getting the test set true negative scores\n",
    "TN = cv_results['test_tn'].mean()"
   ]
  },
  {
   "cell_type": "markdown",
   "metadata": {},
   "source": [
    "# Perfomance measurement computations"
   ]
  },
  {
   "cell_type": "code",
   "execution_count": null,
   "metadata": {},
   "outputs": [],
   "source": [
    "####TRAINING###\n",
    "\n",
    "#pred_train=model.predict(X_train)\n",
    "pred_train_all =model.predict(X)\n",
    "\n",
    "acurracy = (TP+TN) / (TP+TN+FP+FN)\n",
    "F1_score = 2*TP / ((2*TP) + (FP + FN))\n",
    "precision = TP / (TP + FP)\n",
    "specificity = TN / (FP + TN)\n",
    "sensitivity_recall = TP / (TP + FN)\n",
    "\n",
    "import math \n",
    "MCC = ((TP*TN) - (FP*FN)) / math.sqrt(((TP+FP)*(TP+FN))*((TN+FP)*(TN+FN)))\n",
    "\n",
    "print(\"Accuracy: \", acurracy)\n",
    "print(\"F1_score: \", F1_score)\n",
    "print(\"Precision: \", precision)\n",
    "print(\"Specificity: \", specificity)\n",
    "print(\"Sensitivity/Recall: \", sensitivity_recall)\n",
    "print(\"MCC: \", MCC)\n",
    "\n",
    "from sklearn.metrics import roc_auc_score\n",
    "roc = roc_auc_score(y_train, model.predict_proba(X_train), multi_class='ovr')\n",
    "print(\"ROC_AUC: \", roc)\n",
    "\n",
    "#Plot ROC curve training\n",
    "tpr = TP / (TP + FN)\n",
    "fpr = FP / (FP + TN)\n",
    "\n",
    "import matplotlib.pyplot as plt\n",
    "def plot_roc_curve(fpr, tpr):\n",
    "    #plt.plot(fpr, tpr, color='#00FF74', label='ROC')\n",
    "    plt.plot(fpr, tpr, color='#9300FF', label='ROC')\n",
    "    #plt.plot(fpr, tpr, color='#FFC300', label='ROC')\n",
    "    plt.plot([0, 1], [0, 1], color='darkblue', linestyle='--')\n",
    "    plt.xlabel('False Positive Rate')\n",
    "    plt.ylabel('True Positive Rate')\n",
    "    plt.title('ROC Curve (Training = 100%)')\n",
    "    #plt.title('ROC Curve (Training = 100%)')\n",
    "    plt.legend()\n",
    "    #plt.savefig('ROC_all.png', dpi=1200)\n",
    "    plt.show()\n",
    "    \n",
    "plot_roc_curve(fpr, tpr)"
   ]
  },
  {
   "cell_type": "code",
   "execution_count": null,
   "metadata": {},
   "outputs": [],
   "source": [
    "####TESTING###\n",
    "from sklearn.metrics import classification_report\n",
    "import matplotlib.pyplot as plt\n",
    "\n",
    "pred_test=model.predict(X_test)\n",
    "\n",
    "conf = confusion_matrix(y_test, pred_test)\n",
    "TPt = conf[1, 1]\n",
    "FPt = conf[0, 1]\n",
    "TNt = conf[0, 0]\n",
    "FNt = conf[1, 0]\n",
    "\n",
    "acurracy = (TPt+TNt) / (TPt+TNt+FPt+FNt)\n",
    "F1_score = 2*TPt / ((2*TPt) + (FPt + FNt))\n",
    "precision = TPt / (TPt + FPt)\n",
    "specificity = TNt / (FPt + TNt)\n",
    "sensitivity_recall = TPt / (TPt + FNt)\n",
    "\n",
    "import math \n",
    "MCC = ((TPt*TNt) - (FPt*FNt)) / math.sqrt(((TPt+FPt)*(TPt+FNt))*((TNt+FPt)*(TNt+FNt)))\n",
    "\n",
    "print(\"Accuracy: \", acurracy)\n",
    "print(\"F1_score: \", F1_score)\n",
    "print(\"Precision: \", precision)\n",
    "print(\"Specificity: \", specificity)\n",
    "print(\"Sensitivity/Recall: \", sensitivity_recall)\n",
    "print(\"MCC: \", MCC)\n",
    "\n",
    "from sklearn.metrics import roc_auc_score\n",
    "roc = roc_auc_score(y_test, model.predict_proba(X_test), multi_class='ovr')\n",
    "print(\"ROC_AUC: \", roc)\n",
    "\n",
    "#Plot ROC curve testing\n",
    "tpr_t = TPt / (TPt + FNt)\n",
    "fpr_t = FPt / (FPt + TNt)\n",
    "\n",
    "def plot_roc_curve(fpr_t, tpr_t):\n",
    "    plt.plot(fpr_t, tpr_t, color='#FF0000', label='ROC')\n",
    "    plt.plot([0, 1], [0, 1], color='darkblue', linestyle='--')\n",
    "    plt.xlabel('False Positive Rate')\n",
    "    plt.ylabel('True Positive Rate')\n",
    "    plt.title('ROC Curve (Testing = 20%)')\n",
    "    plt.legend()\n",
    "    #plt.savefig('ROC_20.png', dpi=1200)\n",
    "    plt.show()\n",
    "    \n",
    "plot_roc_curve(fpr_t, tpr_t)"
   ]
  },
  {
   "cell_type": "code",
   "execution_count": null,
   "metadata": {},
   "outputs": [],
   "source": [
    "#Confusion matrix\n",
    "import matplotlib.pyplot as plt\n",
    "from sklearn.metrics import ConfusionMatrixDisplay\n",
    "#ConfusionMatrixDisplay.from_predictions(y_test, pred_test)\n",
    "#ConfusionMatrixDisplay.from_predictions(y_train, pred_train)\n",
    "ConfusionMatrixDisplay.from_predictions(y, pred_train_all)\n",
    "#plt.title('Confusion Matrix (Training [CV-10] = 80%)')\n",
    "#plt.title('Confusion Matrix (Testing = 20%)')\n",
    "plt.title('Confusion Matrix (Training [CV-10] = 100%)')\n",
    "plt.savefig('matrix_all.png', dpi=1200)\n",
    "plt.show()"
   ]
  },
  {
   "cell_type": "markdown",
   "metadata": {},
   "source": [
    "# Proteome predictions"
   ]
  },
  {
   "cell_type": "code",
   "execution_count": null,
   "metadata": {},
   "outputs": [],
   "source": [
    "import pandas as pd\n",
    "X1 = pd.read_csv('Seqs_and_Computed_Descriptors/path...')\n",
    "\n",
    "from sklearn.preprocessing import StandardScaler\n",
    "scaler = StandardScaler()\n",
    "scaler.fit(X1)\n",
    "X1 = scaler.transform(X1)"
   ]
  },
  {
   "cell_type": "code",
   "execution_count": null,
   "metadata": {},
   "outputs": [],
   "source": [
    "import numpy as np\n",
    "import joblib\n",
    "\n",
    "\n",
    "model = joblib.load('Model/model.pkl')\n",
    "prediction = model.predict(X1)\n",
    "pred = model.predict_proba(X1)"
   ]
  },
  {
   "cell_type": "code",
   "execution_count": null,
   "metadata": {},
   "outputs": [],
   "source": [
    "#Save predictions\n",
    "save_pred = pd.DataFrame(pred).to_csv(\"Predictions/file_name.csv\", index=False)\n",
    "save_pred"
   ]
  }
 ],
 "metadata": {
  "interpreter": {
   "hash": "71fc6aa1f1e49594335edcdea5fb4de6782254ac8f7cedb01d458f7997f3c4f1"
  },
  "kernelspec": {
   "display_name": "Python 3.10.2 ('Python310')",
   "language": "python",
   "name": "python3"
  },
  "language_info": {
   "codemirror_mode": {
    "name": "ipython",
    "version": 3
   },
   "file_extension": ".py",
   "mimetype": "text/x-python",
   "name": "python",
   "nbconvert_exporter": "python",
   "pygments_lexer": "ipython3",
   "version": "3.10.2"
  },
  "orig_nbformat": 4
 },
 "nbformat": 4,
 "nbformat_minor": 2
}
